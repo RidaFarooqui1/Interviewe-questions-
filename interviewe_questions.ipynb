{
  "nbformat": 4,
  "nbformat_minor": 0,
  "metadata": {
    "colab": {
      "provenance": []
    },
    "kernelspec": {
      "name": "python3",
      "display_name": "Python 3"
    },
    "language_info": {
      "name": "python"
    }
  },
  "cells": [
    {
      "cell_type": "markdown",
      "source": [
        "Lesson : Interview Questions {OOPS}\n",
        "\n",
        "This document has been made after discussion with 100s of candidates, industry experts and looking after many interview portals. Roles and company name where the question was asked is also mentioned. Company names and Roles can be overlapping. Numbers after that is the importance level. 1 being the lowest importance and 3 being highest importance. Sometimes the roles and companies are not mentioned but still important.\n",
        "\n",
        "OOPs in Python Questions\n",
        "\n",
        "1. What are classes and objects in Python? Explain with examples.\n",
        "\n",
        "\n",
        "\n",
        "\n",
        "2. Explain the concept of inheritance in Python. How does it work?\n",
        "(Roles: [Machine Learning Engineer, Data Science], Companies: [Infosys, Cognizant], Importance: 3)\n",
        "\n",
        "\n",
        "\n",
        "\n",
        "3. What is the difference between single inheritance and multiple inheritance in Python?\n",
        "(Roles: [Data Science, Business Analyst], Companies: [Capgemini, Flipkart], Importance: 2)\n",
        "\n",
        "\n",
        "\n",
        "\n",
        "4. What is encapsulation, and how is it implemented in Python?\n",
        "(Roles: [Machine Learning Engineer, Data Science], Companies: [IBM, Zomato], Importance: 3)\n",
        "\n",
        "\n",
        "\n",
        "\n",
        "5. What are static methods and class methods? Explain with an example.\n",
        "\n",
        "\n",
        "\n",
        "\n",
        "6. What are dunder methods in Python? Why are they useful?\n",
        "(Roles: [Data Science, Data Analytics], Companies: [Microsoft, Swiggy], Importance: 2)\n",
        "\n",
        "\n",
        "\n",
        "\n",
        "7. What is the difference between method overriding and method overloading?\n",
        "(Roles: [Machine Learning Engineer, Data Science], Companies: [Infosys, Paytm], Importance: 3)\n",
        "\n",
        "\n",
        "\n",
        "\n",
        "8. Explain the use of decorators in Python and provide an example.\n",
        "(Roles: [Data Science, Data Analytics], Companies: [Amazon, Wipro], Importance: 3)"
      ],
      "metadata": {
        "id": "z-cURMQ1hyrl"
      }
    }
  ]
}